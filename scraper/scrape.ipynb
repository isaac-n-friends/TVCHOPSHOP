{
 "cells": [
  {
   "cell_type": "markdown",
   "metadata": {},
   "source": [
    "## Ebay Web Scraper"
   ]
  },
  {
   "cell_type": "markdown",
   "metadata": {},
   "source": [
    "useful links for info info on parsing html and the libraries/functions used here:  \n",
    "https://www.w3schools.com/xml/xpath_syntax.asp   - xPath syntax - find nodes in xml/html  \n",
    "https://lxml.de/lxmlhtml.html - "
   ]
  },
  {
   "cell_type": "markdown",
   "metadata": {},
   "source": [
    "questions, comments, ect:  \n",
    "    -how are headers used, how would I change them\n",
    "    -What is the HTML get request object?\n",
    "        -what is the object created by html.fromstring from this?\n",
    "    -where does xpath come from?\n",
    "    -why does \"\"\"if __name__==\"__main__\":\"\"\" return true\n"
   ]
  },
  {
   "cell_type": "code",
   "execution_count": 1,
   "metadata": {},
   "outputs": [],
   "source": [
    "import argparse #allows for command line arguments insertion\n",
    "from pprint import pprint #not used???\n",
    "from traceback import format_exc \n",
    "\n",
    "import requests\n",
    "import unicodecsv as csv\n",
    "from lxml import html\n",
    "import pandas as pd\n",
    "import numpy as np\n",
    "\n",
    "from PIL import Image #not stricktly necesarry for scraping\n",
    "from io import BytesIO # see above comment\n"
   ]
  },
  {
   "cell_type": "markdown",
   "metadata": {},
   "source": [
    "**parse** function takes the *brand* (search query) argument, creates a html get request with ebay url formula, then useds xpath to sort through the page and first find listings - then price, product url, and title from within the listings. Each listing is written to a dictionary with it's info, and the dictionary then appended to the list of listings."
   ]
  },
  {
   "cell_type": "code",
   "execution_count": 2,
   "metadata": {},
   "outputs": [],
   "source": [
    "def parse(brand):\n",
    "\n",
    "    url = 'https://www.ebay.com/sch/i.html?_nkw={0}&_sacat=0&LH_PrefLoc=1'.format(brand)\n",
    "    headers = {'User-Agent': 'Mozilla/5.0 (X11; Linux x86_64) AppleWebKit/537.36 (KHTML, like Gecko) Chrome/73.0.3683.103 Safari/537.36'}\n",
    "    failed = False\n",
    "\n",
    "    # Retries for handling network errors\n",
    "    for _ in range(5):\n",
    "        #print (\"Retrieving %s\"%(url))\n",
    "        response = requests.get(url, headers=headers, verify=False) #use requests to send a html get request - scrape the ebay page\n",
    "        parser = html.fromstring(response.text) \n",
    "        #print (\"Parsing page\")\n",
    "\n",
    "        if response.status_code!=200:\n",
    "            failed = True\n",
    "            continue\n",
    "        else:\n",
    "            failed = False\n",
    "            break\n",
    "\n",
    "    if failed:\n",
    "        return []\n",
    "\n",
    "    product_listings = parser.xpath('//li[contains(@id,\"results-listing\")]') #use xpath to find all listing nodes\n",
    "    raw_result_count = parser.xpath(\"//h1[contains(@class,'count-heading')]//text()\")\n",
    "    result_count = ''.join(raw_result_count).strip()\n",
    "    #print (\"Found {0} for {1}\".format(result_count,brand))\n",
    "    scraped_products = []\n",
    "\n",
    "    for product in product_listings:\n",
    "        raw_url = product.xpath('.//a[contains(@class,\"item__link\")]/@href')\n",
    "        raw_title = product.xpath('.//h3[contains(@class,\"item__title\")]//text()')\n",
    "        raw_product_type = product.xpath('.//h3[contains(@class,\"item__title\")]/span[@class=\"LIGHT_HIGHLIGHT\"]/text()')\n",
    "        raw_price = product.xpath('.//span[contains(@class,\"s-item__price\")]//text()')\n",
    "        price  = ' '.join(' '.join(raw_price).split())\n",
    "        title = ' '.join(' '.join(raw_title).split())\n",
    "        product_type = ''.join(raw_product_type)\n",
    "        title = title.replace(product_type, '').strip()\n",
    "        data = {\n",
    "                    'url':raw_url[0],\n",
    "                    'title':title,\n",
    "                    'price':price\n",
    "        }\n",
    "        scraped_products.append(data)\n",
    "    return scraped_products\n"
   ]
  },
  {
   "cell_type": "markdown",
   "metadata": {},
   "source": [
    "## below cell does not work inside a jupyter notebook\n",
    "the argparser stuff allows for command line arguments (ie. >python scrape bn94*** from cl)  \n",
    "Takes data list and writes it to a csv file named '''arg-ebay-scraped-data.csv'''"
   ]
  },
  {
   "cell_type": "code",
   "execution_count": 4,
   "metadata": {},
   "outputs": [
    {
     "name": "stderr",
     "output_type": "stream",
     "text": [
      "usage: ipykernel_launcher.py [-h] brand\n",
      "ipykernel_launcher.py: error: unrecognized arguments: -f\n"
     ]
    },
    {
     "ename": "SystemExit",
     "evalue": "2",
     "output_type": "error",
     "traceback": [
      "An exception has occurred, use %tb to see the full traceback.\n",
      "\u001b[1;31mSystemExit\u001b[0m\u001b[1;31m:\u001b[0m 2\n"
     ]
    },
    {
     "name": "stderr",
     "output_type": "stream",
     "text": [
      "C:\\Users\\isaac\\Anaconda3\\lib\\site-packages\\IPython\\core\\interactiveshell.py:3275: UserWarning: To exit: use 'exit', 'quit', or Ctrl-D.\n",
      "  warn(\"To exit: use 'exit', 'quit', or Ctrl-D.\", stacklevel=1)\n"
     ]
    }
   ],
   "source": [
    "if __name__==\"__main__\": #this returns true, but idk why\n",
    "\n",
    "    argparser = argparse.ArgumentParser()\n",
    "    argparser.add_argument('brand',help = 'Brand Name')\n",
    "    args = argparser.parse_args()\n",
    "    brand = args.brand\n",
    "\n",
    "    scraped_data =  parse(brand)\n",
    "    if scraped_data: # if data scrape successful\n",
    "        print (\"Writing scraped data to %s-ebay-scraped-data.csv\"%(brand)) #output log\n",
    "        with open('%s-ebay-scraped-data.csv'%(brand),'wb') as csvfile: #open csv file to be written to in binary\n",
    "            fieldnames = [\"title\",\"price\",\"url\"] #collumns\n",
    "            writer = csv.DictWriter(csvfile,fieldnames = fieldnames,quoting=csv.QUOTE_ALL)\n",
    "            writer.writeheader()\n",
    "            for data in scraped_data:\n",
    "                writer.writerow(data)\n",
    "    else:\n",
    "        print(\"No data scraped\")"
   ]
  },
  {
   "cell_type": "code",
   "execution_count": 3,
   "metadata": {},
   "outputs": [
    {
     "name": "stdin",
     "output_type": "stream",
     "text": [
      " EAT63435701\n"
     ]
    },
    {
     "name": "stderr",
     "output_type": "stream",
     "text": [
      "C:\\Users\\isaac\\Anaconda3\\lib\\site-packages\\urllib3\\connectionpool.py:847: InsecureRequestWarning: Unverified HTTPS request is being made. Adding certificate verification is strongly advised. See: https://urllib3.readthedocs.io/en/latest/advanced-usage.html#ssl-warnings\n",
      "  InsecureRequestWarning)\n"
     ]
    },
    {
     "data": {
      "text/html": [
       "<div>\n",
       "<style scoped>\n",
       "    .dataframe tbody tr th:only-of-type {\n",
       "        vertical-align: middle;\n",
       "    }\n",
       "\n",
       "    .dataframe tbody tr th {\n",
       "        vertical-align: top;\n",
       "    }\n",
       "\n",
       "    .dataframe thead th {\n",
       "        text-align: right;\n",
       "    }\n",
       "</style>\n",
       "<table border=\"1\" class=\"dataframe\">\n",
       "  <thead>\n",
       "    <tr style=\"text-align: right;\">\n",
       "      <th></th>\n",
       "      <th>mean</th>\n",
       "      <th>mode</th>\n",
       "      <th>standard dev</th>\n",
       "      <th>max</th>\n",
       "      <th>min</th>\n",
       "    </tr>\n",
       "  </thead>\n",
       "  <tbody>\n",
       "    <tr>\n",
       "      <th>EAT63435701</th>\n",
       "      <td>21.1142</td>\n",
       "      <td>15.0</td>\n",
       "      <td>16.72636</td>\n",
       "      <td>89.95</td>\n",
       "      <td>1.99</td>\n",
       "    </tr>\n",
       "  </tbody>\n",
       "</table>\n",
       "</div>"
      ],
      "text/plain": [
       "                mean  mode  standard dev    max   min\n",
       "EAT63435701  21.1142  15.0      16.72636  89.95  1.99"
      ]
     },
     "execution_count": 3,
     "metadata": {},
     "output_type": "execute_result"
    }
   ],
   "source": [
    "search = list(input().split(','))\n",
    "arr = np.empty((len(list(search)),5))\n",
    "\n",
    "for idx,i in enumerate(search):\n",
    "    dat = parse(i)\n",
    "    table = pd.DataFrame(data=dat)\n",
    "    #print(table)\n",
    "    prices = table['price'].str.strip('$ ')\n",
    "    \n",
    "    for pidx,pi in enumerate(prices):\n",
    "        try:\n",
    "            prices.iloc[pidx] = float(pi)\n",
    "        except:\n",
    "            prices.iloc[pidx] = None      #prices.iloc[idx].split('$')[1]\n",
    "            #prices.iloc[idx] = prices.iloc[idx].split('$')[1] pick higher of a price range\n",
    "            \n",
    "    #rel = prices.mean(),prices.std(),prices.max(),prices.min()\n",
    "    #mean = prices.mean()\n",
    "    #std = prices.std()\n",
    "    #max_ = prices.max()\n",
    "    #min_ = prices.min()\n",
    "    \n",
    "    arr[idx,:] = prices.mean(), prices.mode()[0], prices.std(), prices.max(), prices.min() #  search,mean,std,max_,min_\n",
    "\n",
    "cols = ['mean','mode','standard dev','max','min']\n",
    "\n",
    "pd.DataFrame(arr,columns=cols,index=search)\n",
    "  \n",
    "\n"
   ]
  },
  {
   "cell_type": "code",
   "execution_count": null,
   "metadata": {},
   "outputs": [],
   "source": [
    "## make an array instead\n",
    "if __name__==\"__main__\": #this returns true, but idk why\n",
    "\n",
    "    argparser = argparse.ArgumentParser()\n",
    "    argparser.add_argument('brand',help = 'Brand Name')\n",
    "    args = argparser.parse_args()\n",
    "    brand = args.brand\n",
    "\n",
    "    scraped_data =  parse(brand)\n",
    "    if scraped_data: # if data scrape successful\n",
    "        print (\"Writing scraped data to %s-ebay-scraped-data.csv\"%(brand)) #output log\n",
    "        \n",
    "        with open('%s-ebay-scraped-data.csv'%(brand),'wb') as csvfile: #open csv file to be written to in binary\n",
    "            fieldnames = [\"title\",\"price\",\"url\"] #collumns\n",
    "            writer = csv.DictWriter(csvfile,fieldnames = fieldnames,quoting=csv.QUOTE_ALL)\n",
    "            writer.writeheader()\n",
    "            for data in scraped_data:\n",
    "                writer.writerow(data)\n",
    "    else:\n",
    "        print(\"No data scraped\")"
   ]
  },
  {
   "cell_type": "code",
   "execution_count": 2,
   "metadata": {},
   "outputs": [
    {
     "ename": "NameError",
     "evalue": "name 'requests' is not defined",
     "output_type": "error",
     "traceback": [
      "\u001b[1;31m---------------------------------------------------------------------------\u001b[0m",
      "\u001b[1;31mNameError\u001b[0m                                 Traceback (most recent call last)",
      "\u001b[1;32m<ipython-input-2-9a30af1623d0>\u001b[0m in \u001b[0;36m<module>\u001b[1;34m\u001b[0m\n\u001b[0;32m      6\u001b[0m \u001b[0mlnk\u001b[0m \u001b[1;33m=\u001b[0m \u001b[1;34m'https://www.ebay.com/sch/i.html?_nkw={0}&_sacat=0'\u001b[0m\u001b[1;33m.\u001b[0m\u001b[0mformat\u001b[0m\u001b[1;33m(\u001b[0m\u001b[1;34m'samsung'\u001b[0m\u001b[1;33m)\u001b[0m\u001b[1;33m\u001b[0m\u001b[1;33m\u001b[0m\u001b[0m\n\u001b[0;32m      7\u001b[0m \u001b[1;33m\u001b[0m\u001b[0m\n\u001b[1;32m----> 8\u001b[1;33m \u001b[0msponse\u001b[0m \u001b[1;33m=\u001b[0m \u001b[0mrequests\u001b[0m\u001b[1;33m.\u001b[0m\u001b[0mget\u001b[0m\u001b[1;33m(\u001b[0m\u001b[0mlnk\u001b[0m\u001b[1;33m,\u001b[0m \u001b[0mverify\u001b[0m\u001b[1;33m=\u001b[0m\u001b[1;32mFalse\u001b[0m\u001b[1;33m)\u001b[0m \u001b[1;31m#use requests to send a html get request - scrape the ebay page\u001b[0m\u001b[1;33m\u001b[0m\u001b[1;33m\u001b[0m\u001b[0m\n\u001b[0m\u001b[0;32m      9\u001b[0m \u001b[1;33m\u001b[0m\u001b[0m\n\u001b[0;32m     10\u001b[0m \u001b[1;33m\u001b[0m\u001b[0m\n",
      "\u001b[1;31mNameError\u001b[0m: name 'requests' is not defined"
     ]
    }
   ],
   "source": [
    "#req.status_code\n",
    "#req.encoding\n",
    "#req.text #get text from request - using encoding specified by req.encoding\n",
    "#req.content \n",
    "#i = Image.open(BytesIO(req.content)\n",
    "lnk = 'https://www.ebay.com/sch/i.html?_nkw={0}&_sacat=0'.format('samsung')\n",
    "\n",
    "sponse = requests.get(lnk, verify=False) #use requests to send a html get request - scrape the ebay page\n",
    "\n",
    "\n",
    "\n",
    "#parser = html.fromstring(response.text) \n",
    "\n",
    "\n",
    "#html.fromstring(sponse.text).xpath('//li[contains(@id,\"results-listing\")]')#.xpath('.//a[contains(@class,\"item__link\")]/@href')[0]"
   ]
  },
  {
   "cell_type": "code",
   "execution_count": null,
   "metadata": {},
   "outputs": [],
   "source": []
  }
 ],
 "metadata": {
  "kernelspec": {
   "display_name": "Python 3",
   "language": "python",
   "name": "python3"
  },
  "language_info": {
   "codemirror_mode": {
    "name": "ipython",
    "version": 3
   },
   "file_extension": ".py",
   "mimetype": "text/x-python",
   "name": "python",
   "nbconvert_exporter": "python",
   "pygments_lexer": "ipython3",
   "version": "3.7.1"
  }
 },
 "nbformat": 4,
 "nbformat_minor": 2
}
