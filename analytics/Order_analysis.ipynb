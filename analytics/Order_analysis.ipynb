{
 "cells": [
  {
   "cell_type": "code",
   "execution_count": 1,
   "metadata": {},
   "outputs": [],
   "source": [
    "import pandas as pd\n",
    "import numpy as np\n",
    "import matplotlib.pyplot as plt"
   ]
  },
  {
   "cell_type": "markdown",
   "metadata": {},
   "source": [
    "#### Pandas Settings:\n",
    "set max rows/cols diusplayed in printed dataframe  \n",
    "suppress SetWithCopy chained assignment warning"
   ]
  },
  {
   "cell_type": "code",
   "execution_count": 2,
   "metadata": {},
   "outputs": [],
   "source": [
    "\n",
    "# un-comment to view all rows of data frame\n",
    "# uses lots pf ram!!!\n",
    "# pd.set_option(\"display.max_rows\", None, \"display.max_columns\", None)\n",
    "pd.set_option(\"display.max_rows\", 40, \"display.max_columns\", 40)\n",
    "\n",
    "\n",
    "pd.options.mode.chained_assignment = None  # default='warn'\n",
    "\n",
    "\n",
    "#pd.read_csv(\"orders.csv\") #zentail sales data - does not include title\n",
    "#pd.read_csv('1717.csv') #another data fetch? has sku, package/shipping info"
   ]
  },
  {
   "cell_type": "code",
   "execution_count": 3,
   "metadata": {},
   "outputs": [
    {
     "ename": "NameError",
     "evalue": "name 'sales' is not defined",
     "output_type": "error",
     "traceback": [
      "\u001b[1;31m---------------------------------------------------------------------------\u001b[0m",
      "\u001b[1;31mNameError\u001b[0m                                 Traceback (most recent call last)",
      "\u001b[1;32m<ipython-input-3-cfc252b55b26>\u001b[0m in \u001b[0;36m<module>\u001b[1;34m\u001b[0m\n\u001b[1;32m----> 1\u001b[1;33m \u001b[0msales\u001b[0m\u001b[1;33m[\u001b[0m\u001b[1;34m'Sale Date'\u001b[0m\u001b[1;33m]\u001b[0m\u001b[1;33m[\u001b[0m\u001b[1;36m0\u001b[0m\u001b[1;33m]\u001b[0m\u001b[1;33m\u001b[0m\u001b[1;33m\u001b[0m\u001b[0m\n\u001b[0m",
      "\u001b[1;31mNameError\u001b[0m: name 'sales' is not defined"
     ]
    }
   ],
   "source": [
    "sales['Sale Date'][0]"
   ]
  },
  {
   "cell_type": "code",
   "execution_count": 4,
   "metadata": {},
   "outputs": [
    {
     "data": {
      "text/html": [
       "<div>\n",
       "<style scoped>\n",
       "    .dataframe tbody tr th:only-of-type {\n",
       "        vertical-align: middle;\n",
       "    }\n",
       "\n",
       "    .dataframe tbody tr th {\n",
       "        vertical-align: top;\n",
       "    }\n",
       "\n",
       "    .dataframe thead th {\n",
       "        text-align: right;\n",
       "    }\n",
       "</style>\n",
       "<table border=\"1\" class=\"dataframe\">\n",
       "  <thead>\n",
       "    <tr style=\"text-align: right;\">\n",
       "      <th></th>\n",
       "      <th>Sale Date</th>\n",
       "      <th>Status</th>\n",
       "      <th>Channel</th>\n",
       "      <th>Marketplace</th>\n",
       "      <th>SKU</th>\n",
       "      <th>Title</th>\n",
       "      <th>Sold Quantity</th>\n",
       "      <th>Sold Price</th>\n",
       "      <th>Kit?</th>\n",
       "      <th>Pending</th>\n",
       "      <th>FBA Fulfillment Fees</th>\n",
       "      <th>Day</th>\n",
       "    </tr>\n",
       "  </thead>\n",
       "  <tbody>\n",
       "    <tr>\n",
       "      <th>0</th>\n",
       "      <td>2020-01-01 02:23:00</td>\n",
       "      <td>Completed</td>\n",
       "      <td>NaN</td>\n",
       "      <td>Api</td>\n",
       "      <td>39665A-39666A-16-2</td>\n",
       "      <td>Samsung UN65JU6500FXZA LED Backlight Strip Set...</td>\n",
       "      <td>1</td>\n",
       "      <td>39.95</td>\n",
       "      <td>Yes</td>\n",
       "      <td>0</td>\n",
       "      <td>$0</td>\n",
       "      <td>2020-01-01</td>\n",
       "    </tr>\n",
       "    <tr>\n",
       "      <th>1</th>\n",
       "      <td>2020-01-01 02:27:00</td>\n",
       "      <td>Completed</td>\n",
       "      <td>NaN</td>\n",
       "      <td>Api</td>\n",
       "      <td>RTU4300-USED</td>\n",
       "      <td>RCA RTU4300 Stand Legs W/Screws - Used</td>\n",
       "      <td>1</td>\n",
       "      <td>29.95</td>\n",
       "      <td>NaN</td>\n",
       "      <td>0</td>\n",
       "      <td>$0</td>\n",
       "      <td>2020-01-01</td>\n",
       "    </tr>\n",
       "    <tr>\n",
       "      <th>2</th>\n",
       "      <td>2020-01-01 02:40:00</td>\n",
       "      <td>Completed</td>\n",
       "      <td>NaN</td>\n",
       "      <td>Api</td>\n",
       "      <td>EAD61273133-NEW</td>\n",
       "      <td>OEM Genuine LG AV Adapter Cable Accessory -  E...</td>\n",
       "      <td>1</td>\n",
       "      <td>7.50</td>\n",
       "      <td>NaN</td>\n",
       "      <td>0</td>\n",
       "      <td>$0</td>\n",
       "      <td>2020-01-01</td>\n",
       "    </tr>\n",
       "    <tr>\n",
       "      <th>3</th>\n",
       "      <td>2020-01-01 02:40:00</td>\n",
       "      <td>Completed</td>\n",
       "      <td>NaN</td>\n",
       "      <td>Api</td>\n",
       "      <td>EAD61273134-NEW</td>\n",
       "      <td>OEM Genuine LG AV Adapter Cable Accessory -  E...</td>\n",
       "      <td>1</td>\n",
       "      <td>5.50</td>\n",
       "      <td>NaN</td>\n",
       "      <td>3</td>\n",
       "      <td>$0</td>\n",
       "      <td>2020-01-01</td>\n",
       "    </tr>\n",
       "    <tr>\n",
       "      <th>4</th>\n",
       "      <td>2020-01-01 08:58:00</td>\n",
       "      <td>Completed</td>\n",
       "      <td>NaN</td>\n",
       "      <td>Api</td>\n",
       "      <td>BN59-01220D-NEW</td>\n",
       "      <td>Samsung UN55JU6700FXZA UN65JS9000FXZA Remote B...</td>\n",
       "      <td>1</td>\n",
       "      <td>79.95</td>\n",
       "      <td>NaN</td>\n",
       "      <td>0</td>\n",
       "      <td>$0</td>\n",
       "      <td>2020-01-01</td>\n",
       "    </tr>\n",
       "  </tbody>\n",
       "</table>\n",
       "</div>"
      ],
      "text/plain": [
       "            Sale Date     Status  Channel Marketplace                 SKU  \\\n",
       "0 2020-01-01 02:23:00  Completed      NaN         Api  39665A-39666A-16-2   \n",
       "1 2020-01-01 02:27:00  Completed      NaN         Api        RTU4300-USED   \n",
       "2 2020-01-01 02:40:00  Completed      NaN         Api     EAD61273133-NEW   \n",
       "3 2020-01-01 02:40:00  Completed      NaN         Api     EAD61273134-NEW   \n",
       "4 2020-01-01 08:58:00  Completed      NaN         Api     BN59-01220D-NEW   \n",
       "\n",
       "                                               Title  Sold Quantity  \\\n",
       "0  Samsung UN65JU6500FXZA LED Backlight Strip Set...              1   \n",
       "1             RCA RTU4300 Stand Legs W/Screws - Used              1   \n",
       "2  OEM Genuine LG AV Adapter Cable Accessory -  E...              1   \n",
       "3  OEM Genuine LG AV Adapter Cable Accessory -  E...              1   \n",
       "4  Samsung UN55JU6700FXZA UN65JS9000FXZA Remote B...              1   \n",
       "\n",
       "   Sold Price Kit?  Pending FBA Fulfillment Fees        Day  \n",
       "0       39.95  Yes        0                   $0 2020-01-01  \n",
       "1       29.95  NaN        0                   $0 2020-01-01  \n",
       "2        7.50  NaN        0                   $0 2020-01-01  \n",
       "3        5.50  NaN        3                   $0 2020-01-01  \n",
       "4       79.95  NaN        0                   $0 2020-01-01  "
      ]
     },
     "execution_count": 4,
     "metadata": {},
     "output_type": "execute_result"
    }
   ],
   "source": [
    "sales = pd.read_csv('SalesReport.csv')\n",
    "data = sales[['Sale Date', 'Status', 'Channel','Marketplace','SKU','Title', 'Sold Quantity', 'Sold Price',\n",
    " 'Kit?','Pending', 'FBA Fulfillment Fees']]\n",
    "\n",
    "#convert string timestamps to datetime objects, and make a column denoting day\n",
    "data['Sale Date'] = pd.to_datetime(data.iloc[:,0])\n",
    "data['Day'] = data['Sale Date'].dt.floor('D')\n",
    "\n",
    "\n",
    "data['Sold Price'] = data[\"Sold Price\"].str.replace('$','').astype(float)\n",
    "\n",
    "\n",
    "data.head()\n",
    "\n"
   ]
  },
  {
   "cell_type": "code",
   "execution_count": 5,
   "metadata": {},
   "outputs": [
    {
     "data": {
      "text/plain": [
       "904589.0700000001"
      ]
     },
     "execution_count": 5,
     "metadata": {},
     "output_type": "execute_result"
    }
   ],
   "source": [
    "brands = ['Samsung','LG','Sony','Vizio','Westinghouse','TCL','Element','JVC','Philips','Onn','RCA','Hisense','Insignia']\n",
    "\n",
    "notitleidx = []\n",
    "for idx, listing in enumerate(data['Title']):\n",
    "    for brand in brands:\n",
    "        try:\n",
    "            if brand in listing:\n",
    "                \n",
    "                continue\n",
    "        except TypeError:\n",
    "            notitleidx.append(idx)\n",
    "            break\n",
    "            \n",
    "nobrand = data.iloc[notitleidx,:]\n",
    "#nobrand['Sold Price'].str.replace('$','').astype(float).sum()\n",
    "data['Sold Price'].sum()"
   ]
  },
  {
   "cell_type": "code",
   "execution_count": 6,
   "metadata": {
    "scrolled": true
   },
   "outputs": [
    {
     "data": {
      "text/plain": [
       "40       False\n",
       "59       False\n",
       "87       False\n",
       "99       False\n",
       "126      False\n",
       "         ...  \n",
       "21117    False\n",
       "21570    False\n",
       "21737    False\n",
       "22039    False\n",
       "22304    False\n",
       "Name: Sold Price, Length: 187, dtype: bool"
      ]
     },
     "execution_count": 6,
     "metadata": {},
     "output_type": "execute_result"
    }
   ],
   "source": [
    "pd.isna(nobrand['Sold Price'])#.iloc[1,5] == 'nan'"
   ]
  },
  {
   "cell_type": "code",
   "execution_count": 7,
   "metadata": {},
   "outputs": [],
   "source": [
    "hotseller = data[data['Title'].str.contains('791.01C10.0003', na=False)]\n"
   ]
  },
  {
   "cell_type": "code",
   "execution_count": 8,
   "metadata": {},
   "outputs": [
    {
     "ename": "TypeError",
     "evalue": "You have to supply one of 'by' and 'level'",
     "output_type": "error",
     "traceback": [
      "\u001b[1;31m---------------------------------------------------------------------------\u001b[0m",
      "\u001b[1;31mTypeError\u001b[0m                                 Traceback (most recent call last)",
      "\u001b[1;32m<ipython-input-8-72c05258c5db>\u001b[0m in \u001b[0;36m<module>\u001b[1;34m\u001b[0m\n\u001b[1;32m----> 1\u001b[1;33m \u001b[0mhotseller\u001b[0m\u001b[1;33m.\u001b[0m\u001b[0mgroupby\u001b[0m\u001b[1;33m(\u001b[0m\u001b[1;33m)\u001b[0m\u001b[1;33m\u001b[0m\u001b[1;33m\u001b[0m\u001b[0m\n\u001b[0m",
      "\u001b[1;32m~\\anaconda3\\lib\\site-packages\\pandas\\core\\frame.py\u001b[0m in \u001b[0;36mgroupby\u001b[1;34m(self, by, axis, level, as_index, sort, group_keys, squeeze, observed)\u001b[0m\n\u001b[0;32m   5796\u001b[0m \u001b[1;33m\u001b[0m\u001b[0m\n\u001b[0;32m   5797\u001b[0m         \u001b[1;32mif\u001b[0m \u001b[0mlevel\u001b[0m \u001b[1;32mis\u001b[0m \u001b[1;32mNone\u001b[0m \u001b[1;32mand\u001b[0m \u001b[0mby\u001b[0m \u001b[1;32mis\u001b[0m \u001b[1;32mNone\u001b[0m\u001b[1;33m:\u001b[0m\u001b[1;33m\u001b[0m\u001b[1;33m\u001b[0m\u001b[0m\n\u001b[1;32m-> 5798\u001b[1;33m             \u001b[1;32mraise\u001b[0m \u001b[0mTypeError\u001b[0m\u001b[1;33m(\u001b[0m\u001b[1;34m\"You have to supply one of 'by' and 'level'\"\u001b[0m\u001b[1;33m)\u001b[0m\u001b[1;33m\u001b[0m\u001b[1;33m\u001b[0m\u001b[0m\n\u001b[0m\u001b[0;32m   5799\u001b[0m         \u001b[0maxis\u001b[0m \u001b[1;33m=\u001b[0m \u001b[0mself\u001b[0m\u001b[1;33m.\u001b[0m\u001b[0m_get_axis_number\u001b[0m\u001b[1;33m(\u001b[0m\u001b[0maxis\u001b[0m\u001b[1;33m)\u001b[0m\u001b[1;33m\u001b[0m\u001b[1;33m\u001b[0m\u001b[0m\n\u001b[0;32m   5800\u001b[0m \u001b[1;33m\u001b[0m\u001b[0m\n",
      "\u001b[1;31mTypeError\u001b[0m: You have to supply one of 'by' and 'level'"
     ]
    }
   ],
   "source": [
    "hotseller.groupby()"
   ]
  },
  {
   "cell_type": "code",
   "execution_count": 26,
   "metadata": {},
   "outputs": [
    {
     "data": {
      "text/plain": [
       "'791.01C10.0003'"
      ]
     },
     "execution_count": 26,
     "metadata": {},
     "output_type": "execute_result"
    }
   ],
   "source": []
  },
  {
   "cell_type": "code",
   "execution_count": 10,
   "metadata": {},
   "outputs": [],
   "source": [
    "daysales = (hotseller['Sale Date'].dt.floor('d')).value_counts()\n",
    "weeksales = (hotseller['Sale Date'].dt.floor('7d')).value_counts()"
   ]
  },
  {
   "cell_type": "code",
   "execution_count": 11,
   "metadata": {
    "scrolled": true
   },
   "outputs": [],
   "source": [
    "#daysales.sort_values()\n",
    "weeksales.sort_values()\n",
    "\n",
    "start = daysales.index.min()\n",
    "end = daysales.index.max()\n",
    "\n",
    "start = daysales.index.min()\n",
    "end = daysales.index.max()\n",
    "\n",
    "idx = pd.date_range(start,end)\n",
    "idxw = pd.date_range(start,end,freq='W')\n",
    "\n",
    "\n",
    "daysales = daysales.reindex(idx, fill_value=0)\n",
    "weeksales = weeksales.reindex(idxw,fill_value=0)"
   ]
  },
  {
   "cell_type": "code",
   "execution_count": 12,
   "metadata": {},
   "outputs": [
    {
     "data": {
      "text/plain": [
       "2020-02-20    1\n",
       "2020-02-21    0\n",
       "2020-02-22    0\n",
       "2020-02-23    1\n",
       "2020-02-24    1\n",
       "             ..\n",
       "2020-08-17    3\n",
       "2020-08-18    1\n",
       "2020-08-19    0\n",
       "2020-08-20    3\n",
       "2020-08-21    1\n",
       "Freq: D, Name: Sale Date, Length: 184, dtype: int64"
      ]
     },
     "execution_count": 12,
     "metadata": {},
     "output_type": "execute_result"
    }
   ],
   "source": [
    "daysales.sort_index()"
   ]
  },
  {
   "cell_type": "code",
   "execution_count": 13,
   "metadata": {},
   "outputs": [
    {
     "data": {
      "text/plain": [
       "DatetimeIndex(['2020-02-23', '2020-03-01', '2020-03-08', '2020-03-15',\n",
       "               '2020-03-22', '2020-03-29', '2020-04-05', '2020-04-12',\n",
       "               '2020-04-19', '2020-04-26', '2020-05-03', '2020-05-10',\n",
       "               '2020-05-17', '2020-05-24', '2020-05-31', '2020-06-07',\n",
       "               '2020-06-14', '2020-06-21', '2020-06-28', '2020-07-05',\n",
       "               '2020-07-12', '2020-07-19', '2020-07-26', '2020-08-02',\n",
       "               '2020-08-09', '2020-08-16'],\n",
       "              dtype='datetime64[ns]', freq='W-SUN')"
      ]
     },
     "execution_count": 13,
     "metadata": {},
     "output_type": "execute_result"
    }
   ],
   "source": [
    "idxw"
   ]
  },
  {
   "cell_type": "code",
   "execution_count": 33,
   "metadata": {},
   "outputs": [
    {
     "data": {
      "text/plain": [
       "Text(0.5, 1.0, 'Daily 791.01C10.0003 Sales')"
      ]
     },
     "execution_count": 33,
     "metadata": {},
     "output_type": "execute_result"
    },
    {
     "data": {
      "image/png": "[encoded data removed]",
      "text/plain": [
       "<Figure size 432x288 with 1 Axes>"
      ]
     },
     "metadata": {
      "needs_background": "light"
     },
     "output_type": "display_data"
    }
   ],
   "source": [
    "# 7-Day Rolling Sum of sales \n",
    "\n",
    "x = pd.DataFrame(daysales.index)\n",
    "\n",
    "y = pd.DataFrame(daysales)\n",
    "\n",
    "r = y.rolling(7).sum().sort_index().plot()\n",
    "hotsku = hotseller['SKU'].iloc[0]\n",
    "\n",
    "plt.title('Daily {0} Sales'.format(hotsku))\n",
    "\n",
    "\n",
    "\n",
    "#plt.scatter(y.index,r)"
   ]
  },
  {
   "cell_type": "code",
   "execution_count": 126,
   "metadata": {},
   "outputs": [
    {
     "data": {
      "text/plain": [
       "<matplotlib.axes._subplots.AxesSubplot at 0x22050473788>"
      ]
     },
     "execution_count": 126,
     "metadata": {},
     "output_type": "execute_result"
    },
    {
     "data": {
      "image/png": "[encoded data removed]",
      "text/plain": [
       "<Figure size 432x288 with 1 Axes>"
      ]
     },
     "metadata": {
      "needs_background": "light"
     },
     "output_type": "display_data"
    }
   ],
   "source": [
    "r.sort_index().plot()"
   ]
  },
  {
   "cell_type": "code",
   "execution_count": 16,
   "metadata": {},
   "outputs": [
    {
     "data": {
      "text/plain": [
       "0       2020-01-01 02:23:00\n",
       "1       2020-01-01 02:27:00\n",
       "2       2020-01-01 02:40:00\n",
       "3       2020-01-01 02:40:00\n",
       "4       2020-01-01 08:58:00\n",
       "                ...        \n",
       "22441   2020-08-21 16:06:00\n",
       "22442   2020-08-21 16:06:00\n",
       "22443   2020-08-21 16:14:00\n",
       "22444   2020-08-21 16:17:00\n",
       "22445   2020-08-21 16:15:00\n",
       "Name: Sale Date, Length: 22446, dtype: datetime64[ns]"
      ]
     },
     "execution_count": 16,
     "metadata": {},
     "output_type": "execute_result"
    }
   ],
   "source": [
    "pd.to_datetime(sales['Sale Date'])"
   ]
  },
  {
   "cell_type": "code",
   "execution_count": 112,
   "metadata": {},
   "outputs": [
    {
     "data": {
      "text/plain": [
       "2020-04-11    4\n",
       "2020-08-20    3\n",
       "2020-04-20    3\n",
       "2020-05-08    3\n",
       "2020-05-03    3\n",
       "             ..\n",
       "2020-04-07    1\n",
       "2020-02-23    1\n",
       "2020-08-21    1\n",
       "2020-04-12    1\n",
       "2020-05-02    1\n",
       "Name: Sale Date, Length: 54, dtype: int64"
      ]
     },
     "execution_count": 112,
     "metadata": {},
     "output_type": "execute_result"
    }
   ],
   "source": [
    "(hotseller['Sale Date'].dt.floor('D')).value_counts()"
   ]
  },
  {
   "cell_type": "code",
   "execution_count": 25,
   "metadata": {},
   "outputs": [
    {
     "data": {
      "text/plain": [
       "Index(['Sale ID', 'Order ID', 'Sale Date', 'Status', 'Channel', 'Marketplace',\n",
       "       'SKU', 'Code', 'MPN', 'Title', 'Sold Quantity', 'Sold Price',\n",
       "       'Cost of Goods', 'Profit', 'Margin', 'Markup', 'Kit?', '3PL?',\n",
       "       'Pending', 'On Hand', 'Available', 'Incoming', 'FBA Fulfillment Fees'],\n",
       "      dtype='object')"
      ]
     },
     "execution_count": 25,
     "metadata": {},
     "output_type": "execute_result"
    }
   ],
   "source": [
    "sales.columns"
   ]
  },
  {
   "cell_type": "code",
   "execution_count": null,
   "metadata": {},
   "outputs": [],
   "source": []
  }
 ],
 "metadata": {
  "kernelspec": {
   "display_name": "Python 3",
   "language": "python",
   "name": "python3"
  },
  "language_info": {
   "codemirror_mode": {
    "name": "ipython",
    "version": 3
   },
   "file_extension": ".py",
   "mimetype": "text/x-python",
   "name": "python",
   "nbconvert_exporter": "python",
   "pygments_lexer": "ipython3",
   "version": "3.7.6"
  }
 },
 "nbformat": 4,
 "nbformat_minor": 4
}
